{
 "cells": [
  {
   "cell_type": "code",
   "execution_count": null,
   "id": "6ee7648a-49f2-4ac7-9115-182963e8eec6",
   "metadata": {},
   "outputs": [],
   "source": [
    "from pyspark import SparkContext, SparkConf, SQLContext\n",
    "from pyspark.sql import SparkSession\n",
    "\n",
    "spark = SparkSession\\\n",
    "        .builder\\\n",
    "        .appName(\"minio-test\")\\\n",
    "        .master(\"local\")\\\n",
    "        .config(\"spark.jars.packages\", \"org.apache.hadoop:hadoop-aws:3.2.0\")\\\n",
    "        .config(\"spark.hive.metastore.uris\", \"thrift://hive-metastore:9083\")\\\n",
    "        .config(\"spark.sql.warehouse.dir\", \"hdfs://namenode:8020/user/hive/warehouse\")\\\n",
    "        .config(\"spark.executor.memory\", \"1g\")\\\n",
    "        .config('spark.sql.shuffle.partitions', '1')\\\n",
    "        .config('spark.hadoop.fs.s3a.access.key', 'savas')\\\n",
    "        .config('spark.hadoop.fs.s3a.secret.key', 'savas123')\\\n",
    "        .config('spark.hadoop.fs.s3a.path.style.access','true')\\\n",
    "        .config('spark.hadoop.fs.s3a.impl','org.apache.hadoop.fs.s3a.S3AFileSystem')\\\n",
    "        .config('spark.hadoop.fs.s3a.endpoint','http://minio:9000')\\\n",
    "        .config('spark.hadoop.fs.s3a.connection.ssl.enabled','false')\\\n",
    "        .config('spark.hadoop.fs.s3a.aws.credentials.provider','org.apache.hadoop.fs.s3a.SimpleAWSCredentialsProvider')\\\n",
    "        .enableHiveSupport()\\\n",
    "        .getOrCreate()"
   ]
  },
  {
   "cell_type": "code",
   "execution_count": 11,
   "id": "d60c36dc-84f8-4d24-aac9-fd97ef4f798c",
   "metadata": {},
   "outputs": [],
   "source": [
    "df_s3 = spark.read.json('s3a://bucket-test/orders.json')"
   ]
  },
  {
   "cell_type": "code",
   "execution_count": 12,
   "id": "64a01896-e34e-4720-ba3c-67b31ccb42f6",
   "metadata": {},
   "outputs": [
    {
     "name": "stdout",
     "output_type": "stream",
     "text": [
      "+------+---+\n",
      "|amount| id|\n",
      "+------+---+\n",
      "|  1000|  1|\n",
      "|  2000|  2|\n",
      "|  3000|  3|\n",
      "+------+---+\n",
      "\n"
     ]
    }
   ],
   "source": [
    "df_s3.show()"
   ]
  },
  {
   "cell_type": "code",
   "execution_count": 13,
   "id": "5960b043-08e7-4d8c-9720-453ebb6a8f47",
   "metadata": {},
   "outputs": [],
   "source": [
    "df_hdfs = spark.read.json('hdfs://namenode:8020/user/admin/orders.json')"
   ]
  },
  {
   "cell_type": "code",
   "execution_count": 14,
   "id": "4a62311c-fa3a-4a2f-a459-9dc44993afbd",
   "metadata": {},
   "outputs": [
    {
     "name": "stdout",
     "output_type": "stream",
     "text": [
      "+------+---+\n",
      "|amount| id|\n",
      "+------+---+\n",
      "|  1000|  1|\n",
      "|  2000|  2|\n",
      "|  3000|  3|\n",
      "+------+---+\n",
      "\n"
     ]
    }
   ],
   "source": [
    "df_hdfs.show()"
   ]
  }
 ],
 "metadata": {
  "kernelspec": {
   "display_name": "Python 3 (ipykernel)",
   "language": "python",
   "name": "python3"
  },
  "language_info": {
   "codemirror_mode": {
    "name": "ipython",
    "version": 3
   },
   "file_extension": ".py",
   "mimetype": "text/x-python",
   "name": "python",
   "nbconvert_exporter": "python",
   "pygments_lexer": "ipython3",
   "version": "3.7.3"
  }
 },
 "nbformat": 4,
 "nbformat_minor": 5
}

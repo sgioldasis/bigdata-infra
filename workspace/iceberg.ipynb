{
 "cells": [
  {
   "cell_type": "code",
   "execution_count": null,
   "id": "224ffb7a-b222-4957-a1f7-94573bb3d59a",
   "metadata": {},
   "outputs": [],
   "source": [
    "from pyspark.sql.session import SparkSession\n",
    "\n",
    "# .master(\"spark://spark-master:7077\") \\\n",
    "spark = SparkSession.builder \\\n",
    "            .master(\"local[*]\") \\\n",
    "            .appName(\"SparkByExamples.com\") \\\n",
    "            .config(\"spark.sql.extensions\", \"org.apache.iceberg.spark.extensions.IcebergSparkSessionExtensions\") \\\n",
    "            .config(\"spark.jars.packages\",\"org.apache.iceberg:iceberg-spark-runtime-3.2_2.12:0.13.0\") \\\n",
    "            .config(\"spark.sql.catalog.spark_catalog\",\"org.apache.iceberg.spark.SparkSessionCatalog\") \\\n",
    "            .config(\"spark.sql.catalog.spark_catalog.type\",\"hive\") \\\n",
    "            .config(\"spark.hadoop.hive.metastore.uris\",\"thrift://hive-metastore:9083\") \\\n",
    "            .config(\"spark.hadoop.datanucleus.autoCreateSchema\",\"true\") \\\n",
    "            .config(\"spark.hadoop.datanucleus.fixedDatastore\",\"false\") \\\n",
    "            .config(\"spark.sql.shuffle.partitions\",\"1\") \\\n",
    "            .getOrCreate()  \n"
   ]
  },
  {
   "cell_type": "code",
   "execution_count": null,
   "id": "30f91b7d",
   "metadata": {},
   "outputs": [],
   "source": [
    "# -- local is the path-based catalog defined above\n",
    "spark.sql(\"CREATE TABLE icetable (id bigint, data string) USING iceberg\")"
   ]
  },
  {
   "cell_type": "code",
   "execution_count": null,
   "id": "177e8c1c-5c10-4cf3-bace-5d42e108bea3",
   "metadata": {},
   "outputs": [],
   "source": [
    "spark.sql(\"INSERT INTO icetable VALUES (1, 'a'), (2, 'b'), (3, 'c');\")\n",
    "# spark.sql(\"INSERT INTO local.db.table SELECT id, data FROM source WHERE length(data) = 1;\")"
   ]
  },
  {
   "cell_type": "code",
   "execution_count": null,
   "id": "bdf27bbc-d160-4779-ae84-92d3a109356d",
   "metadata": {},
   "outputs": [],
   "source": [
    "df = spark.sql(\"SELECT * FROM icetable\")\n",
    "df.sort(\"id\").show()"
   ]
  },
  {
   "cell_type": "code",
   "execution_count": null,
   "id": "4c1f26c3-d73a-44a4-aabb-fe2da14c15cb",
   "metadata": {},
   "outputs": [],
   "source": [
    "df = spark.sql(\"\"\"\n",
    "    MERGE INTO icetable t                                                -- a target table\n",
    "    USING (SELECT *, 'delete' as op FROM icetable WHERE id=1) s          -- the source updates\n",
    "    ON t.id = s.id                                                       -- condition to find updates for target rows\n",
    "    WHEN MATCHED AND s.op = 'delete' THEN DELETE                         -- updates\n",
    "\"\"\")\n",
    "df = spark.sql(\"SELECT * FROM icetable\")\n",
    "df.sort(\"id\").show()"
   ]
  },
  {
   "cell_type": "code",
   "execution_count": null,
   "id": "e7b6aaab-6cae-4f63-a441-353621ad25ca",
   "metadata": {},
   "outputs": [],
   "source": [
    "df = spark.sql(\"\"\"\n",
    "    MERGE INTO icetable t                                                -- a target table\n",
    "    USING (SELECT *, 'increment' as op FROM icetable WHERE data='c') s   -- the source updates\n",
    "    ON t.id = s.id and t.data = s.data                                   -- condition to find updates for target rows\n",
    "    WHEN MATCHED AND s.op = 'increment' THEN UPDATE SET t.id = t.id + 1  -- updates\n",
    "\"\"\")\n",
    "df = spark.sql(\"SELECT * FROM icetable\")\n",
    "df.sort(\"id\").show()"
   ]
  }
 ],
 "metadata": {
  "kernelspec": {
   "display_name": "Python 3 (ipykernel)",
   "language": "python",
   "name": "python3"
  },
  "language_info": {
   "codemirror_mode": {
    "name": "ipython",
    "version": 3
   },
   "file_extension": ".py",
   "mimetype": "text/x-python",
   "name": "python",
   "nbconvert_exporter": "python",
   "pygments_lexer": "ipython3",
   "version": "3.7.3"
  }
 },
 "nbformat": 4,
 "nbformat_minor": 5
}

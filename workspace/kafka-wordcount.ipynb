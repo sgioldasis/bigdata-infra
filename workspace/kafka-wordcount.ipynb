{
 "cells": [
  {
   "cell_type": "markdown",
   "id": "471e4da2-6b6f-485e-90fc-e3f375f7ee35",
   "metadata": {
    "tags": []
   },
   "source": [
    "# Kafka with Spark Structured Streaming using Python\n",
    "\n",
    "We will see how to use Spark Structured Streaming with Kafka using a word count example:\n",
    "\n",
    "```\n",
    "Terminal 1\n",
    "docker-compose exec broker bash\n",
    "kafka-console-producer --topic wordcount --bootstrap-server broker:29092\n",
    "\n",
    "\n",
    "Terminal 2\n",
    "docker-compose exec broker bash\n",
    "kafka-console-consumer --topic wordcount --bootstrap-server broker:29092\n",
    "\n",
    "\n",
    "If not in Confluent Kafka\n",
    "-------------------------\n",
    "export TOPIC=wordcount\n",
    "kafka-topics.sh --create --zookeeper zookeeper:2181 --replication-factor 1 --partitions 1 --topic $TOPIC\n",
    "kafka-topics.sh --list --zookeeper zookeeper:2181\n",
    "kafka-console-producer.sh --topic $TOPIC --bootstrap-server localhost:9092\n",
    "\n",
    "```\n",
    "\n"
   ]
  },
  {
   "cell_type": "markdown",
   "id": "094afc88-fe58-4b47-8c5a-602115122dc4",
   "metadata": {},
   "source": [
    "First we need to get a SparkSession with Kafka (and Hive and AVRO) support"
   ]
  },
  {
   "cell_type": "code",
   "execution_count": null,
   "id": "ac9b2c8b",
   "metadata": {},
   "outputs": [],
   "source": [
    "from pyspark.sql import SparkSession\n",
    "from pyspark.sql.functions import to_json,col\n",
    "from pyspark.sql.types import *\n",
    "from os.path import abspath\n",
    "\n",
    "spark = SparkSession\\\n",
    "        .builder\\\n",
    "        .appName(\"kafka-wordcount\")\\\n",
    "        .master(\"spark://spark-master:7077\")\\\n",
    "        .config(\"hive.metastore.uris\", \"thrift://hive-metastore:9083\")\\\n",
    "        .config(\"spark.sql.warehouse.dir\", \"hdfs://namenode:8020/user/hive/warehouse\")\\\n",
    "        .config(\"spark.executor.memory\", \"1g\")\\\n",
    "        .config(\"spark.jars.packages\", \"org.apache.spark:spark-avro_2.12:3.2.0\")\\\n",
    "        .config('spark.jars.packages', 'org.apache.spark:spark-sql-kafka-0-10_2.12:3.0.1')\\\n",
    "        .config('spark.sql.shuffle.partitions', '1')\\\n",
    "        .enableHiveSupport()\\\n",
    "        .getOrCreate()\n",
    "\n",
    "spark.sparkContext.setLogLevel(\"ERROR\")"
   ]
  },
  {
   "cell_type": "markdown",
   "id": "58070278-909c-4864-9c8d-52be4a498275",
   "metadata": {},
   "source": [
    "Then we need to start our streaming application. Once it is started, we can type sentences in our terminal and we can see the output here."
   ]
  },
  {
   "cell_type": "code",
   "execution_count": 1,
   "id": "b25558fc-22ae-4020-b25d-32889c4b2653",
   "metadata": {},
   "outputs": [
    {
     "ename": "NameError",
     "evalue": "name 'spark' is not defined",
     "output_type": "error",
     "traceback": [
      "\u001b[0;31m---------------------------------------------------------------------------\u001b[0m",
      "\u001b[0;31mNameError\u001b[0m                                 Traceback (most recent call last)",
      "\u001b[0;32m/tmp/ipykernel_128/3837966568.py\u001b[0m in \u001b[0;36m<module>\u001b[0;34m\u001b[0m\n\u001b[1;32m      3\u001b[0m \u001b[0mtopic\u001b[0m \u001b[0;34m=\u001b[0m \u001b[0;34m\"wordcount\"\u001b[0m\u001b[0;34m\u001b[0m\u001b[0;34m\u001b[0m\u001b[0m\n\u001b[1;32m      4\u001b[0m \u001b[0;34m\u001b[0m\u001b[0m\n\u001b[0;32m----> 5\u001b[0;31m \u001b[0mlines\u001b[0m \u001b[0;34m=\u001b[0m \u001b[0mspark\u001b[0m\u001b[0;31m \u001b[0m\u001b[0;31m\\\u001b[0m\u001b[0;34m\u001b[0m\u001b[0;34m\u001b[0m\u001b[0m\n\u001b[0m\u001b[1;32m      6\u001b[0m   \u001b[0;34m.\u001b[0m\u001b[0mreadStream\u001b[0m\u001b[0;31m \u001b[0m\u001b[0;31m\\\u001b[0m\u001b[0;34m\u001b[0m\u001b[0;34m\u001b[0m\u001b[0m\n\u001b[1;32m      7\u001b[0m   \u001b[0;34m.\u001b[0m\u001b[0mformat\u001b[0m\u001b[0;34m(\u001b[0m\u001b[0;34m\"kafka\"\u001b[0m\u001b[0;34m)\u001b[0m\u001b[0;31m \u001b[0m\u001b[0;31m\\\u001b[0m\u001b[0;34m\u001b[0m\u001b[0;34m\u001b[0m\u001b[0m\n",
      "\u001b[0;31mNameError\u001b[0m: name 'spark' is not defined"
     ]
    }
   ],
   "source": [
    "from pyspark.sql.functions import split, explode, desc\n",
    "\n",
    "topic = \"wordcount\"\n",
    "\n",
    "lines = spark \\\n",
    "  .readStream \\\n",
    "  .format(\"kafka\") \\\n",
    "  .option(\"kafka.bootstrap.servers\", \"broker:29092\") \\\n",
    "  .option(\"subscribe\", topic) \\\n",
    "  .option(\"startingOffsets\", \"latest\") \\\n",
    "  .load()\n",
    "\n",
    "# Split the lines into words\n",
    "words = lines.select(\n",
    "   explode(\n",
    "       split(lines.value, \" \")\n",
    "   ).alias(\"word\")\n",
    ")\n",
    "\n",
    "# Generate running word count\n",
    "wordCounts = words \\\n",
    "    .groupBy(\"word\").count() \\\n",
    "    .filter(\"trim(word) <> ''\") \\\n",
    "    .sort(desc(\"count\"))\n",
    "                                                                        \n",
    "# Start running the query that prints the running counts to the console\n",
    "query = wordCounts \\\n",
    "    .writeStream \\\n",
    "    .outputMode(\"complete\") \\\n",
    "    .format(\"console\") \\\n",
    "    .start()\n",
    "\n",
    "query.awaitTermination()"
   ]
  },
  {
   "cell_type": "markdown",
   "id": "96c47fb0-c9bc-49e7-abf7-6746ee074155",
   "metadata": {},
   "source": [
    "Everything looks great!"
   ]
  }
 ],
 "metadata": {
  "kernelspec": {
   "display_name": "Python 3 (ipykernel)",
   "language": "python",
   "name": "python3"
  },
  "language_info": {
   "codemirror_mode": {
    "name": "ipython",
    "version": 3
   },
   "file_extension": ".py",
   "mimetype": "text/x-python",
   "name": "python",
   "nbconvert_exporter": "python",
   "pygments_lexer": "ipython3",
   "version": "3.7.3"
  }
 },
 "nbformat": 4,
 "nbformat_minor": 5
}

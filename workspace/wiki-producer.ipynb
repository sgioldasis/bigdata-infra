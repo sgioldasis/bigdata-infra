{
 "cells": [
  {
   "cell_type": "code",
   "execution_count": null,
   "id": "4896372a-7177-4f3a-a201-3a7405d4ad54",
   "metadata": {},
   "outputs": [],
   "source": [
    "import json\n",
    "from sseclient import SSEClient as EventSource\n",
    "from kafka import KafkaProducer\n",
    "\n",
    "# Create producer\n",
    "producer = KafkaProducer(\n",
    "    bootstrap_servers='broker:29092', #Kafka server\n",
    "    value_serializer=lambda v: json.dumps(v).encode('utf-8') #json serializer\n",
    "    )\n",
    "\n",
    "# Read streaming event\n",
    "url = 'https://stream.wikimedia.org/v2/stream/recentchange'\n",
    "try:\n",
    "    for event in EventSource(url):\n",
    "        if event.event == 'message':\n",
    "            try:\n",
    "                change = json.loads(event.data)\n",
    "            except ValueError:\n",
    "                pass\n",
    "            else:\n",
    "                #Send msg to topic wiki-changes\n",
    "                producer.send('wiki-changes', change)\n",
    "\n",
    "except KeyboardInterrupt:\n",
    "    print(\"process interrupted\")"
   ]
  }
 ],
 "metadata": {
  "kernelspec": {
   "display_name": "Python 3 (ipykernel)",
   "language": "python",
   "name": "python3"
  },
  "language_info": {
   "codemirror_mode": {
    "name": "ipython",
    "version": 3
   },
   "file_extension": ".py",
   "mimetype": "text/x-python",
   "name": "python",
   "nbconvert_exporter": "python",
   "pygments_lexer": "ipython3",
   "version": "3.7.3"
  }
 },
 "nbformat": 4,
 "nbformat_minor": 5
}

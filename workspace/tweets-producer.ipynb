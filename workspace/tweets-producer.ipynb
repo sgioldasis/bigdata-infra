{
 "cells": [
  {
   "cell_type": "markdown",
   "id": "e1e00add-f7e0-4e5b-8b52-b201254dfb13",
   "metadata": {
    "tags": []
   },
   "source": [
    "# Tweets producer\n",
    "\n",
    "We will see how to use Spark Structured Streaming with Kafka using a hashtags count example. \n",
    "\n",
    "First we must start the following code which is retrieving Tweets from a user and sends them to a Kafka topic"
   ]
  },
  {
   "cell_type": "code",
   "execution_count": null,
   "id": "63821215-d063-4d1d-bc5e-b7d3f69ed895",
   "metadata": {},
   "outputs": [],
   "source": [
    "import tweepy\n",
    "import time\n",
    "from kafka import KafkaProducer\n",
    "from dateutil.parser import parse\n",
    "import pytz\n",
    "from datetime import datetime\n",
    "\n",
    "# Define our Twitter credentials in file `creds.py`\n",
    "from creds import *\n",
    "    \n",
    "# Authorize our Twitter credentials\n",
    "auth = tweepy.OAuthHandler(consumer_key, consumer_secret)\n",
    "auth.set_access_token(access_token, access_token_secret)\n",
    "api = tweepy.API(auth)\n",
    "\n",
    "# Initialize variables\n",
    "topic = \"savas\"\n",
    "userID = \"@sgioldasis\"\n",
    "athens = pytz.timezone('Europe/Athens')\n",
    "\n",
    "# last_processed_ts = parse('2021-11-16 07:33:00+02:00')\n",
    "last_processed_ts = datetime.now(tz=athens)\n",
    "\n",
    "producer = KafkaProducer(bootstrap_servers='broker:29092')\n",
    "\n",
    "print(f'Reading {userID} tweets from {last_processed_ts}')\n",
    "\n",
    "# Loop\n",
    "while True:\n",
    "\n",
    "    # Get from Twitter API\n",
    "    tweets = api.user_timeline(screen_name=userID, \n",
    "                           # 200 is the maximum allowed count\n",
    "                           count=1,\n",
    "                           include_rts = False,\n",
    "                           # Necessary to keep full_text \n",
    "                           # otherwise only the first 140 words are extracted\n",
    "                           tweet_mode = 'extended'\n",
    "                           )\n",
    "    \n",
    "    # Get last Tweet info\n",
    "    info = tweets[:1][0]\n",
    "    \n",
    "    # Process last Tweet\n",
    "    if info.created_at > last_processed_ts:\n",
    "        \n",
    "        # Print Tweet (we can also print info.id)\n",
    "        print(f\"{info.created_at.astimezone(athens)} {info.full_text}\")\n",
    "        \n",
    "        # Send Tweet text to Kafka\n",
    "        producer.send(topic, info.full_text.encode('utf-8'))\n",
    "        \n",
    "        # Update last processed timestamp\n",
    "        last_processed_ts = info.created_at\n",
    "            \n",
    "        \n",
    "    # Sleep for a while\n",
    "    time.sleep(10)\n",
    "        \n"
   ]
  },
  {
   "cell_type": "markdown",
   "id": "ee7eb969-0695-4ada-8f3d-b553816ac752",
   "metadata": {},
   "source": [
    "Now we can run `tweets-visualizer.ipynb`"
   ]
  }
 ],
 "metadata": {
  "kernelspec": {
   "display_name": "Python 3 (ipykernel)",
   "language": "python",
   "name": "python3"
  },
  "language_info": {
   "codemirror_mode": {
    "name": "ipython",
    "version": 3
   },
   "file_extension": ".py",
   "mimetype": "text/x-python",
   "name": "python",
   "nbconvert_exporter": "python",
   "pygments_lexer": "ipython3",
   "version": "3.7.3"
  }
 },
 "nbformat": 4,
 "nbformat_minor": 5
}
